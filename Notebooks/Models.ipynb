{
 "cells": [
  {
   "cell_type": "code",
   "execution_count": 44,
   "metadata": {
    "collapsed": true
   },
   "outputs": [],
   "source": [
    "import pickle\n",
    "import os\n",
    "\n",
    "import matplotlib.pyplot as plt\n",
    "from sklearn.model_selection import cross_val_score\n",
    "from sklearn.metrics import f1_score, classification_report, cohen_kappa_score, make_scorer\n",
    "from sklearn.model_selection import StratifiedKFold\n",
    "from statistics import mean\n",
    "import seaborn as sns"
   ]
  },
  {
   "cell_type": "code",
   "execution_count": 2,
   "outputs": [],
   "source": [
    "wd = os.path.dirname(os.getcwd())\n",
    "save_file = os.path.sep.join([wd, \"asset\", \"data\", \"scaled_data.csv\"])"
   ],
   "metadata": {
    "collapsed": false,
    "pycharm": {
     "name": "#%%\n"
    }
   }
  },
  {
   "cell_type": "code",
   "execution_count": 3,
   "outputs": [],
   "source": [
    "with open(save_file, 'rb') as handle:\n",
    "    data = pickle.load(handle)"
   ],
   "metadata": {
    "collapsed": false,
    "pycharm": {
     "name": "#%%\n"
    }
   }
  },
  {
   "cell_type": "code",
   "execution_count": 4,
   "outputs": [
    {
     "data": {
      "text/plain": "(((214337, 127), (214337,)), ((91882, 127), (91882,)))"
     },
     "execution_count": 4,
     "metadata": {},
     "output_type": "execute_result"
    }
   ],
   "source": [
    "X_train, y_train = data[\"train\"]\n",
    "X_test, y_test = data[\"test\"]\n",
    "\n",
    "(X_train.shape, y_train.shape), (X_test.shape, y_test.shape)"
   ],
   "metadata": {
    "collapsed": false,
    "pycharm": {
     "name": "#%%\n"
    }
   }
  },
  {
   "cell_type": "code",
   "execution_count": 5,
   "outputs": [],
   "source": [
    "from imblearn.pipeline import Pipeline\n",
    "from imblearn.over_sampling import RandomOverSampler, SMOTE\n",
    "from imblearn.under_sampling import EditedNearestNeighbours, RandomUnderSampler\n",
    "from sklearn.linear_model import LogisticRegressionCV\n",
    "\n",
    "clf_LR = LogisticRegressionCV(scoring=\"f1\", cv=StratifiedKFold(n_splits=3), class_weight=\"balanced\", solver='liblinear')\n"
   ],
   "metadata": {
    "collapsed": false,
    "pycharm": {
     "name": "#%%\n"
    }
   }
  },
  {
   "cell_type": "code",
   "execution_count": 6,
   "outputs": [
    {
     "name": "stdout",
     "output_type": "stream",
     "text": [
      "0.23068020798325845\n",
      "              precision    recall  f1-score   support\n",
      "\n",
      "           0       0.95      0.66      0.78     84380\n",
      "           1       0.14      0.63      0.23      7502\n",
      "\n",
      "    accuracy                           0.66     91882\n",
      "   macro avg       0.55      0.65      0.51     91882\n",
      "weighted avg       0.89      0.66      0.74     91882\n",
      "\n"
     ]
    }
   ],
   "source": [
    "pipeline = Pipeline(steps=[('m', clf_LR)])\n",
    "pipeline.fit(X_train, y_train)\n",
    "\n",
    "print(clf_LR.scores_[1].mean())\n",
    "print(classification_report(y_test, pipeline.predict(X_test)))"
   ],
   "metadata": {
    "collapsed": false,
    "pycharm": {
     "name": "#%%\n"
    }
   }
  },
  {
   "cell_type": "code",
   "execution_count": 8,
   "outputs": [
    {
     "name": "stdout",
     "output_type": "stream",
     "text": [
      "0.42050395726431283\n",
      "              precision    recall  f1-score   support\n",
      "\n",
      "           0       0.95      0.64      0.77     84380\n",
      "           1       0.14      0.66      0.23      7502\n",
      "\n",
      "    accuracy                           0.64     91882\n",
      "   macro avg       0.55      0.65      0.50     91882\n",
      "weighted avg       0.89      0.64      0.72     91882\n",
      "\n"
     ]
    }
   ],
   "source": [
    "under = RandomUnderSampler(sampling_strategy=.25)\n",
    "\n",
    "pipeline = Pipeline(steps=[('u', under), ('m', clf_LR)])\n",
    "pipeline.fit(X_train, y_train)\n",
    "\n",
    "print(clf_LR.scores_[1].mean())\n",
    "print(classification_report(y_test, pipeline.predict(X_test)))"
   ],
   "metadata": {
    "collapsed": false,
    "pycharm": {
     "name": "#%%\n"
    }
   }
  },
  {
   "cell_type": "code",
   "execution_count": 9,
   "outputs": [
    {
     "name": "stdout",
     "output_type": "stream",
     "text": [
      "0.5446899634966788\n",
      "              precision    recall  f1-score   support\n",
      "\n",
      "           0       0.95      0.66      0.78     84380\n",
      "           1       0.14      0.64      0.23      7502\n",
      "\n",
      "    accuracy                           0.66     91882\n",
      "   macro avg       0.55      0.65      0.51     91882\n",
      "weighted avg       0.89      0.66      0.74     91882\n",
      "\n"
     ]
    }
   ],
   "source": [
    "under = RandomUnderSampler(sampling_strategy=.5)\n",
    "\n",
    "pipeline = Pipeline(steps=[('u', under), ('m', clf_LR)])\n",
    "pipeline.fit(X_train, y_train)\n",
    "\n",
    "print(clf_LR.scores_[1].mean())\n",
    "print(classification_report(y_test, pipeline.predict(X_test)))"
   ],
   "metadata": {
    "collapsed": false,
    "pycharm": {
     "name": "#%%\n"
    }
   }
  },
  {
   "cell_type": "code",
   "execution_count": 10,
   "outputs": [
    {
     "name": "stdout",
     "output_type": "stream",
     "text": [
      "0.6064002371992937\n",
      "              precision    recall  f1-score   support\n",
      "\n",
      "           0       0.97      0.23      0.37     84380\n",
      "           1       0.10      0.91      0.17      7502\n",
      "\n",
      "    accuracy                           0.28     91882\n",
      "   macro avg       0.53      0.57      0.27     91882\n",
      "weighted avg       0.90      0.28      0.35     91882\n",
      "\n"
     ]
    }
   ],
   "source": [
    "under = RandomUnderSampler(sampling_strategy=.75)\n",
    "\n",
    "pipeline = Pipeline(steps=[('u', under), ('m', clf_LR)])\n",
    "pipeline.fit(X_train, y_train)\n",
    "\n",
    "print(clf_LR.scores_[1].mean())\n",
    "print(classification_report(y_test, pipeline.predict(X_test)))"
   ],
   "metadata": {
    "collapsed": false,
    "pycharm": {
     "name": "#%%\n"
    }
   }
  },
  {
   "cell_type": "code",
   "execution_count": 11,
   "outputs": [
    {
     "name": "stdout",
     "output_type": "stream",
     "text": [
      "0.4265992641214344\n",
      "              precision    recall  f1-score   support\n",
      "\n",
      "           0       0.95      0.65      0.77     84380\n",
      "           1       0.14      0.65      0.23      7502\n",
      "\n",
      "    accuracy                           0.65     91882\n",
      "   macro avg       0.55      0.65      0.50     91882\n",
      "weighted avg       0.89      0.65      0.73     91882\n",
      "\n"
     ]
    }
   ],
   "source": [
    "over = RandomOverSampler(sampling_strategy=.25)\n",
    "\n",
    "pipeline = Pipeline(steps=[('o', over), ('m', clf_LR)])\n",
    "pipeline.fit(X_train, y_train)\n",
    "\n",
    "print(clf_LR.scores_[1].mean())\n",
    "print(classification_report(y_test, pipeline.predict(X_test)))"
   ],
   "metadata": {
    "collapsed": false,
    "pycharm": {
     "name": "#%%\n"
    }
   }
  },
  {
   "cell_type": "code",
   "execution_count": 12,
   "outputs": [
    {
     "name": "stdout",
     "output_type": "stream",
     "text": [
      "0.5528374616130252\n",
      "              precision    recall  f1-score   support\n",
      "\n",
      "           0       0.97      0.28      0.44     84380\n",
      "           1       0.10      0.89      0.18      7502\n",
      "\n",
      "    accuracy                           0.33     91882\n",
      "   macro avg       0.53      0.59      0.31     91882\n",
      "weighted avg       0.90      0.33      0.42     91882\n",
      "\n"
     ]
    }
   ],
   "source": [
    "over = RandomOverSampler(sampling_strategy=.5)\n",
    "\n",
    "pipeline = Pipeline(steps=[('o', over), ('m', clf_LR)])\n",
    "pipeline.fit(X_train, y_train)\n",
    "\n",
    "print(clf_LR.scores_[1].mean())\n",
    "print(classification_report(y_test, pipeline.predict(X_test)))"
   ],
   "metadata": {
    "collapsed": false,
    "pycharm": {
     "name": "#%%\n"
    }
   }
  },
  {
   "cell_type": "code",
   "execution_count": 13,
   "outputs": [
    {
     "name": "stdout",
     "output_type": "stream",
     "text": [
      "0.6123131346823797\n",
      "              precision    recall  f1-score   support\n",
      "\n",
      "           0       0.97      0.23      0.37     84380\n",
      "           1       0.10      0.91      0.17      7502\n",
      "\n",
      "    accuracy                           0.29     91882\n",
      "   macro avg       0.53      0.57      0.27     91882\n",
      "weighted avg       0.90      0.29      0.36     91882\n",
      "\n"
     ]
    }
   ],
   "source": [
    "over = RandomOverSampler(sampling_strategy=.75)\n",
    "\n",
    "pipeline = Pipeline(steps=[('o', over), ('m', clf_LR)])\n",
    "pipeline.fit(X_train, y_train)\n",
    "\n",
    "print(clf_LR.scores_[1].mean())\n",
    "print(classification_report(y_test, pipeline.predict(X_test)))"
   ],
   "metadata": {
    "collapsed": false,
    "pycharm": {
     "name": "#%%\n"
    }
   }
  },
  {
   "cell_type": "code",
   "execution_count": null,
   "outputs": [],
   "source": [],
   "metadata": {
    "collapsed": false,
    "pycharm": {
     "name": "#%%\n"
    }
   }
  },
  {
   "cell_type": "code",
   "execution_count": 42,
   "outputs": [],
   "source": [
    "under = RandomUnderSampler(sampling_strategy=.65)\n",
    "over = RandomOverSampler(sampling_strategy=.8)\n",
    "\n",
    "pipeline = Pipeline(steps=[('u', under), ('m', clf_LR)])\n",
    "a,b = under.fit_resample(X_train, y_train)\n",
    "c,d = over.fit_resample(a, b)\n",
    "# sns.histplot(b)\n",
    "#\n",
    "# print(clf_LR.scores_[1].mean())\n",
    "# print(classification_report(y_test, pipeline.predict(X_test)))"
   ],
   "metadata": {
    "collapsed": false,
    "pycharm": {
     "name": "#%%\n"
    }
   }
  },
  {
   "cell_type": "code",
   "execution_count": 49,
   "outputs": [
    {
     "data": {
      "text/plain": "<AxesSubplot:xlabel='TARGET', ylabel='Count'>"
     },
     "execution_count": 49,
     "metadata": {},
     "output_type": "execute_result"
    },
    {
     "data": {
      "text/plain": "<Figure size 864x360 with 3 Axes>",
      "image/png": "[encoded data removed]"
     },
     "metadata": {
      "needs_background": "light"
     },
     "output_type": "display_data"
    }
   ],
   "source": [
    "fig, axes = plt.subplots(figsize=(12,5), nrows=1, ncols=3)\n",
    "axes=axes.ravel()\n",
    "sns.histplot(y_train, ax=axes[0])\n",
    "sns.histplot(b, ax=axes[1])\n",
    "sns.histplot(d, ax=axes[2])"
   ],
   "metadata": {
    "collapsed": false,
    "pycharm": {
     "name": "#%%\n"
    }
   }
  },
  {
   "cell_type": "code",
   "execution_count": 10,
   "outputs": [],
   "source": [
    "models = []\n",
    "cv_score = []"
   ],
   "metadata": {
    "collapsed": false,
    "pycharm": {
     "name": "#%%\n"
    }
   }
  },
  {
   "cell_type": "code",
   "execution_count": 17,
   "outputs": [
    {
     "data": {
      "text/plain": "LogisticRegression(solver='liblinear')"
     },
     "execution_count": 17,
     "metadata": {},
     "output_type": "execute_result"
    }
   ],
   "source": [],
   "metadata": {
    "collapsed": false,
    "pycharm": {
     "name": "#%%\n"
    }
   }
  },
  {
   "cell_type": "code",
   "execution_count": 14,
   "outputs": [
    {
     "name": "stdout",
     "output_type": "stream",
     "text": [
      "              precision    recall  f1-score   support\n",
      "\n",
      "           0       0.95      0.68      0.79     84528\n",
      "           1       0.14      0.62      0.23      7376\n",
      "\n",
      "    accuracy                           0.67     91904\n",
      "   macro avg       0.55      0.65      0.51     91904\n",
      "weighted avg       0.89      0.67      0.75     91904\n",
      "\n"
     ]
    }
   ],
   "source": [
    "# from sklearn.linear_model import LogisticRegressionCV\n",
    "# clf_LR = LogisticRegressionCV(scoring=cohen_kappa_score, cv=StratifiedKFold(3), solver='liblinear', class_weight=\"balanced\")\n",
    "# scores = cross_val_score(clf_LR, X_train, y_train, cv=StratifiedKFold(3), scoring=\"f1\")\n",
    "# models += [\"Logistic Regression\"]\n",
    "# cv_score += mean(scores)\n",
    "# \n",
    "# clf_LR.fit(X_train, y_train)\n",
    "# print(classification_report(y_test, clf_LR.predict(X_test)))"
   ],
   "metadata": {
    "collapsed": false,
    "pycharm": {
     "name": "#%%\n"
    }
   }
  },
  {
   "cell_type": "code",
   "execution_count": 15,
   "outputs": [
    {
     "name": "stdout",
     "output_type": "stream",
     "text": [
      "              precision    recall  f1-score   support\n",
      "\n",
      "           0       0.95      0.77      0.85     84528\n",
      "           1       0.16      0.49      0.24      7376\n",
      "\n",
      "    accuracy                           0.75     91904\n",
      "   macro avg       0.55      0.63      0.55     91904\n",
      "weighted avg       0.88      0.75      0.80     91904\n",
      "\n"
     ]
    }
   ],
   "source": [
    "# from sklearn.linear_model import SGDClassifier\n",
    "# clf_SGD = SGDClassifier(class_weight=\"balanced\").fit(X_train, y_train)\n",
    "# scores = cross_val_score(clf_SGD, X_train, y_train, cv=StratifiedKFold(3), scoring=\"f1\")\n",
    "# models += [\"SGD\"]\n",
    "# cv_score += mean(scores)\n",
    "# \n",
    "# clf_SGD.fit(X_train, y_train)\n",
    "# print(classification_report(y_test, clf_SGD.predict(X_test)))"
   ],
   "metadata": {
    "collapsed": false,
    "pycharm": {
     "name": "#%%\n"
    }
   }
  },
  {
   "cell_type": "code",
   "execution_count": 16,
   "outputs": [
    {
     "name": "stdout",
     "output_type": "stream",
     "text": [
      "              precision    recall  f1-score   support\n",
      "\n",
      "           0       0.92      1.00      0.96     84528\n",
      "           1       0.11      0.00      0.01      7376\n",
      "\n",
      "    accuracy                           0.92     91904\n",
      "   macro avg       0.52      0.50      0.48     91904\n",
      "weighted avg       0.85      0.92      0.88     91904\n",
      "\n"
     ]
    }
   ],
   "source": [
    "# from sklearn.ensemble import GradientBoostingClassifier\n",
    "# clf_ensemble = GradientBoostingClassifier().fit(X_train, y_train)\n",
    "# scores = cross_val_score(clf_ensemble, X_train, y_train, cv=StratifiedKFold(3), scoring=\"f1\")\n",
    "# models += [\"Tree Boosting\"]\n",
    "# cv_score += mean(scores)\n",
    "# \n",
    "# clf_ensemble.fit(X_train, y_train)\n",
    "# print(classification_report(y_test, clf_ensemble.predict(X_test)))"
   ],
   "metadata": {
    "collapsed": false,
    "pycharm": {
     "name": "#%%\n"
    }
   }
  }
 ],
 "metadata": {
  "kernelspec": {
   "display_name": "Python 3",
   "language": "python",
   "name": "python3"
  },
  "language_info": {
   "codemirror_mode": {
    "name": "ipython",
    "version": 2
   },
   "file_extension": ".py",
   "mimetype": "text/x-python",
   "name": "python",
   "nbconvert_exporter": "python",
   "pygments_lexer": "ipython2",
   "version": "2.7.6"
  }
 },
 "nbformat": 4,
 "nbformat_minor": 0
}
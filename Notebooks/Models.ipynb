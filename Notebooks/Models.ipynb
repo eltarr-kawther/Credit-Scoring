{
 "cells": [
  {
   "cell_type": "markdown",
   "source": [
    "# Machine learning"
   ],
   "metadata": {
    "collapsed": false,
    "pycharm": {
     "name": "#%% md\n"
    }
   }
  },
  {
   "cell_type": "markdown",
   "source": [
    "## I - Imports"
   ],
   "metadata": {
    "collapsed": false,
    "pycharm": {
     "name": "#%% md\n"
    }
   }
  },
  {
   "cell_type": "code",
   "execution_count": 1,
   "metadata": {
    "collapsed": true
   },
   "outputs": [],
   "source": [
    "import pandas as pd\n",
    "import os\n",
    "import matplotlib.pyplot as plt\n",
    "from sklearn.metrics import classification_report, cohen_kappa_score\n",
    "from sklearn.model_selection import StratifiedKFold, cross_val_score, GridSearchCV\n",
    "import seaborn as sns\n",
    "from sklearn.metrics import confusion_matrix\n",
    "import numpy as np\n",
    "\n",
    "# Sampling methods\n",
    "from imblearn.pipeline import Pipeline\n",
    "from imblearn.over_sampling import RandomOverSampler, SMOTE\n",
    "from imblearn.under_sampling import RandomUnderSampler"
   ]
  },
  {
   "cell_type": "code",
   "execution_count": 8,
   "outputs": [],
   "source": [
    "def conf_matrix(y_true, _y_pred):\n",
    "    cf_matrix = confusion_matrix(y_true, _y_pred)\n",
    "    group_names = [\"True Neg\", \"False Pos\", \"False Neg\", \"True Pos\"]\n",
    "    group_counts = [\"{0:0.0f}\".format(value) for value in cf_matrix.flatten()]\n",
    "    group_percentages = [\"{0:.2%}\".format(value) for value in cf_matrix.flatten()/np.sum(cf_matrix)]\n",
    "    labels = [f\"{v1}\\n{v2}\\n{v3}\" for v1, v2, v3 in zip(group_names,group_counts,group_percentages)]\n",
    "    labels = np.asarray(labels).reshape(2,2)\n",
    "    fig, ax = plt.subplots(figsize=(8, 8))\n",
    "    sns.heatmap(cf_matrix, annot=labels, fmt=\"\", cmap='Blues', ax=ax)"
   ],
   "metadata": {
    "collapsed": false,
    "pycharm": {
     "name": "#%%\n"
    }
   }
  },
  {
   "cell_type": "markdown",
   "source": [
    "## II - Load data"
   ],
   "metadata": {
    "collapsed": false
   }
  },
  {
   "cell_type": "code",
   "execution_count": 2,
   "outputs": [],
   "source": [
    "wd = os.path.dirname(os.getcwd())\n",
    "train_file = os.path.sep.join([wd, \"asset\", \"data\", \"scaled_data_train.csv\"])\n",
    "test_file = os.path.sep.join([wd, \"asset\", \"data\", \"scaled_data_test.csv\"])"
   ],
   "metadata": {
    "collapsed": false,
    "pycharm": {
     "name": "#%%\n"
    }
   }
  },
  {
   "cell_type": "code",
   "execution_count": 3,
   "outputs": [
    {
     "data": {
      "text/plain": "((214391, 128), (214391,), (91828, 128), (91828,))"
     },
     "execution_count": 3,
     "metadata": {},
     "output_type": "execute_result"
    }
   ],
   "source": [
    "data = pd.read_csv(train_file)\n",
    "X_train, y_train = data.drop(\"TARGET\", axis=1), data[\"TARGET\"]\n",
    "\n",
    "data = pd.read_csv(test_file)\n",
    "X_test, y_test = data.drop(\"TARGET\", axis=1), data[\"TARGET\"]\n",
    "\n",
    "X_train.shape, y_train.shape, X_test.shape, y_test.shape"
   ],
   "metadata": {
    "collapsed": false,
    "pycharm": {
     "name": "#%%\n"
    }
   }
  },
  {
   "cell_type": "markdown",
   "source": [
    "### Define the cross-validation, metrics"
   ],
   "metadata": {
    "collapsed": false,
    "pycharm": {
     "name": "#%% md\n"
    }
   }
  },
  {
   "cell_type": "code",
   "execution_count": 4,
   "outputs": [],
   "source": [
    "cv = StratifiedKFold(n_splits=3)\n",
    "scoring = \"f1\""
   ],
   "metadata": {
    "collapsed": false,
    "pycharm": {
     "name": "#%%\n"
    }
   }
  },
  {
   "cell_type": "markdown",
   "source": [
    "## III - Logistic Regression"
   ],
   "metadata": {
    "collapsed": false,
    "pycharm": {
     "name": "#%% md\n"
    }
   }
  },
  {
   "cell_type": "code",
   "execution_count": 5,
   "outputs": [],
   "source": [
    "from sklearn.linear_model import LogisticRegressionCV\n",
    "clf_LR = LogisticRegressionCV(scoring=scoring, cv=cv, class_weight=\"balanced\", solver='liblinear', random_state=0)"
   ],
   "metadata": {
    "collapsed": false,
    "pycharm": {
     "name": "#%%\n"
    }
   }
  },
  {
   "cell_type": "markdown",
   "source": [
    "#### Native indicator performance: no sampling"
   ],
   "metadata": {
    "collapsed": false,
    "pycharm": {
     "name": "#%% md\n"
    }
   }
  },
  {
   "cell_type": "code",
   "execution_count": 6,
   "outputs": [
    {
     "name": "stdout",
     "output_type": "stream",
     "text": [
      "0.23068020798325845\n",
      "              precision    recall  f1-score   support\n",
      "\n",
      "           0       0.95      0.66      0.78     84380\n",
      "           1       0.14      0.63      0.23      7502\n",
      "\n",
      "    accuracy                           0.66     91882\n",
      "   macro avg       0.55      0.65      0.51     91882\n",
      "weighted avg       0.89      0.66      0.74     91882\n",
      "\n"
     ]
    }
   ],
   "source": [
    "pipeline = Pipeline(steps=[('m', clf_LR)])\n",
    "pipeline.fit(X_train, y_train)\n",
    "\n",
    "print(\"average f1 score on train set\", clf_LR.scores_[1].mean())\n",
    "print(classification_report(y_test, pipeline.predict(X_test)))"
   ],
   "metadata": {
    "collapsed": false,
    "pycharm": {
     "name": "#%%\n"
    }
   }
  },
  {
   "cell_type": "markdown",
   "source": [
    "#### Under sampling: 25, 50, 75%"
   ],
   "metadata": {
    "collapsed": false,
    "pycharm": {
     "name": "#%% md\n"
    }
   }
  },
  {
   "cell_type": "code",
   "execution_count": 8,
   "outputs": [
    {
     "name": "stdout",
     "output_type": "stream",
     "text": [
      "0.42050395726431283\n",
      "              precision    recall  f1-score   support\n",
      "\n",
      "           0       0.95      0.64      0.77     84380\n",
      "           1       0.14      0.66      0.23      7502\n",
      "\n",
      "    accuracy                           0.64     91882\n",
      "   macro avg       0.55      0.65      0.50     91882\n",
      "weighted avg       0.89      0.64      0.72     91882\n",
      "\n"
     ]
    }
   ],
   "source": [
    "under = RandomUnderSampler(sampling_strategy=.25)\n",
    "\n",
    "pipeline = Pipeline(steps=[('u', under), ('m', clf_LR)])\n",
    "pipeline.fit(X_train, y_train)\n",
    "\n",
    "print(\"average f1 score on train set\", clf_LR.scores_[1].mean())\n",
    "print(classification_report(y_test, pipeline.predict(X_test)))"
   ],
   "metadata": {
    "collapsed": false,
    "pycharm": {
     "name": "#%%\n"
    }
   }
  },
  {
   "cell_type": "code",
   "execution_count": 9,
   "outputs": [
    {
     "name": "stdout",
     "output_type": "stream",
     "text": [
      "0.5446899634966788\n",
      "              precision    recall  f1-score   support\n",
      "\n",
      "           0       0.95      0.66      0.78     84380\n",
      "           1       0.14      0.64      0.23      7502\n",
      "\n",
      "    accuracy                           0.66     91882\n",
      "   macro avg       0.55      0.65      0.51     91882\n",
      "weighted avg       0.89      0.66      0.74     91882\n",
      "\n"
     ]
    }
   ],
   "source": [
    "under = RandomUnderSampler(sampling_strategy=.5)\n",
    "\n",
    "pipeline = Pipeline(steps=[('u', under), ('m', clf_LR)])\n",
    "pipeline.fit(X_train, y_train)\n",
    "\n",
    "print(\"average f1 score on train set\", clf_LR.scores_[1].mean())\n",
    "print(classification_report(y_test, pipeline.predict(X_test)))"
   ],
   "metadata": {
    "collapsed": false,
    "pycharm": {
     "name": "#%%\n"
    }
   }
  },
  {
   "cell_type": "code",
   "execution_count": 10,
   "outputs": [
    {
     "name": "stdout",
     "output_type": "stream",
     "text": [
      "0.6064002371992937\n",
      "              precision    recall  f1-score   support\n",
      "\n",
      "           0       0.97      0.23      0.37     84380\n",
      "           1       0.10      0.91      0.17      7502\n",
      "\n",
      "    accuracy                           0.28     91882\n",
      "   macro avg       0.53      0.57      0.27     91882\n",
      "weighted avg       0.90      0.28      0.35     91882\n",
      "\n"
     ]
    }
   ],
   "source": [
    "under = RandomUnderSampler(sampling_strategy=.75)\n",
    "\n",
    "pipeline = Pipeline(steps=[('u', under), ('m', clf_LR)])\n",
    "pipeline.fit(X_train, y_train)\n",
    "\n",
    "print(\"average f1 score on train set\", clf_LR.scores_[1].mean())\n",
    "print(classification_report(y_test, pipeline.predict(X_test)))"
   ],
   "metadata": {
    "collapsed": false,
    "pycharm": {
     "name": "#%%\n"
    }
   }
  },
  {
   "cell_type": "markdown",
   "source": [
    "#### Over sampling: 25, 50, 75%"
   ],
   "metadata": {
    "collapsed": false,
    "pycharm": {
     "name": "#%% md\n"
    }
   }
  },
  {
   "cell_type": "code",
   "execution_count": 11,
   "outputs": [
    {
     "name": "stdout",
     "output_type": "stream",
     "text": [
      "0.4265992641214344\n",
      "              precision    recall  f1-score   support\n",
      "\n",
      "           0       0.95      0.65      0.77     84380\n",
      "           1       0.14      0.65      0.23      7502\n",
      "\n",
      "    accuracy                           0.65     91882\n",
      "   macro avg       0.55      0.65      0.50     91882\n",
      "weighted avg       0.89      0.65      0.73     91882\n",
      "\n"
     ]
    }
   ],
   "source": [
    "over = RandomOverSampler(sampling_strategy=.25)\n",
    "\n",
    "pipeline = Pipeline(steps=[('o', over), ('m', clf_LR)])\n",
    "pipeline.fit(X_train, y_train)\n",
    "\n",
    "print(\"average f1 score on train set\", clf_LR.scores_[1].mean())\n",
    "print(classification_report(y_test, pipeline.predict(X_test)))"
   ],
   "metadata": {
    "collapsed": false,
    "pycharm": {
     "name": "#%%\n"
    }
   }
  },
  {
   "cell_type": "code",
   "execution_count": 12,
   "outputs": [
    {
     "name": "stdout",
     "output_type": "stream",
     "text": [
      "0.5528374616130252\n",
      "              precision    recall  f1-score   support\n",
      "\n",
      "           0       0.97      0.28      0.44     84380\n",
      "           1       0.10      0.89      0.18      7502\n",
      "\n",
      "    accuracy                           0.33     91882\n",
      "   macro avg       0.53      0.59      0.31     91882\n",
      "weighted avg       0.90      0.33      0.42     91882\n",
      "\n"
     ]
    }
   ],
   "source": [
    "over = RandomOverSampler(sampling_strategy=.5)\n",
    "\n",
    "pipeline = Pipeline(steps=[('o', over), ('m', clf_LR)])\n",
    "pipeline.fit(X_train, y_train)\n",
    "\n",
    "print(\"average f1 score on train set\", clf_LR.scores_[1].mean())\n",
    "print(classification_report(y_test, pipeline.predict(X_test)))"
   ],
   "metadata": {
    "collapsed": false,
    "pycharm": {
     "name": "#%%\n"
    }
   }
  },
  {
   "cell_type": "code",
   "execution_count": 13,
   "outputs": [
    {
     "name": "stdout",
     "output_type": "stream",
     "text": [
      "0.6123131346823797\n",
      "              precision    recall  f1-score   support\n",
      "\n",
      "           0       0.97      0.23      0.37     84380\n",
      "           1       0.10      0.91      0.17      7502\n",
      "\n",
      "    accuracy                           0.29     91882\n",
      "   macro avg       0.53      0.57      0.27     91882\n",
      "weighted avg       0.90      0.29      0.36     91882\n",
      "\n"
     ]
    }
   ],
   "source": [
    "over = RandomOverSampler(sampling_strategy=.75)\n",
    "\n",
    "pipeline = Pipeline(steps=[('o', over), ('m', clf_LR)])\n",
    "pipeline.fit(X_train, y_train)\n",
    "\n",
    "print(\"average f1 score on train set\", clf_LR.scores_[1].mean())\n",
    "print(classification_report(y_test, pipeline.predict(X_test)))"
   ],
   "metadata": {
    "collapsed": false,
    "pycharm": {
     "name": "#%%\n"
    }
   }
  },
  {
   "cell_type": "markdown",
   "source": [
    "#### Hybrid sampling: Over & Under"
   ],
   "metadata": {
    "collapsed": false,
    "pycharm": {
     "name": "#%% md\n"
    }
   }
  },
  {
   "cell_type": "code",
   "execution_count": 52,
   "outputs": [
    {
     "data": {
      "text/plain": "<AxesSubplot:xlabel='TARGET', ylabel='Count'>"
     },
     "execution_count": 52,
     "metadata": {},
     "output_type": "execute_result"
    },
    {
     "data": {
      "text/plain": "<Figure size 864x360 with 3 Axes>",
      "image/png": "[encoded data removed]"
     },
     "metadata": {
      "needs_background": "light"
     },
     "output_type": "display_data"
    }
   ],
   "source": [
    "under = RandomUnderSampler(sampling_strategy=.65)\n",
    "over = RandomOverSampler(sampling_strategy=.8)\n",
    "\n",
    "pipeline = Pipeline(steps=[('u', under), ('m', clf_LR)])\n",
    "a,b = under.fit_resample(X_train, y_train)\n",
    "c,d = over.fit_resample(a, b)\n",
    "\n",
    "fig, axes = plt.subplots(figsize=(12,5), nrows=1, ncols=3)\n",
    "axes=axes.ravel()\n",
    "sns.histplot(y_train, ax=axes[0])\n",
    "sns.histplot(b, ax=axes[1])\n",
    "sns.histplot(d, ax=axes[2])"
   ],
   "metadata": {
    "collapsed": false,
    "pycharm": {
     "name": "#%%\n"
    }
   }
  },
  {
   "cell_type": "markdown",
   "source": [
    "## IV - XGBoost"
   ],
   "metadata": {
    "collapsed": false,
    "pycharm": {
     "name": "#%% md\n"
    }
   }
  },
  {
   "cell_type": "code",
   "execution_count": 5,
   "outputs": [],
   "source": [
    "from xgboost import XGBClassifier\n",
    "scale_pos_weight = y_train[y_train == 0].count() / y_train[y_train == 1].count()\n",
    "clf_XGBoost = XGBClassifier(eta=.01, n_estimators=100, scale_pos_weight=scale_pos_weight, random_state=0, use_label_encoder=False, eval_metric=\"rmse\")"
   ],
   "metadata": {
    "collapsed": false,
    "pycharm": {
     "name": "#%%\n"
    }
   }
  },
  {
   "cell_type": "markdown",
   "source": [
    "#### Native indicator performance: no sampling"
   ],
   "metadata": {
    "collapsed": false
   }
  },
  {
   "cell_type": "code",
   "execution_count": 6,
   "outputs": [
    {
     "name": "stdout",
     "output_type": "stream",
     "text": [
      "average f1 score on train set 0.23070882202858042\n",
      "              precision    recall  f1-score   support\n",
      "\n",
      "           0       0.95      0.68      0.79     84323\n",
      "           1       0.14      0.61      0.23      7505\n",
      "\n",
      "    accuracy                           0.67     91828\n",
      "   macro avg       0.55      0.65      0.51     91828\n",
      "weighted avg       0.89      0.67      0.75     91828\n",
      "\n"
     ]
    }
   ],
   "source": [
    "cv_scores = cross_val_score(X=X_train, y=y_train, estimator=clf_XGBoost, cv=cv, scoring=\"f1\")\n",
    "clf_XGBoost.fit(X_train, y_train)\n",
    "print(\"average f1 score on train set\", cv_scores.mean())\n",
    "print(classification_report(y_test, clf_XGBoost.predict(X_test)))"
   ],
   "metadata": {
    "collapsed": false,
    "pycharm": {
     "name": "#%%\n"
    }
   }
  },
  {
   "cell_type": "code",
   "execution_count": 10,
   "outputs": [],
   "source": [
    "y_pred = clf_XGBoost.predict(X_test)"
   ],
   "metadata": {
    "collapsed": false,
    "pycharm": {
     "name": "#%%\n"
    }
   }
  },
  {
   "cell_type": "code",
   "execution_count": 11,
   "outputs": [
    {
     "data": {
      "text/plain": "<Figure size 576x576 with 2 Axes>",
      "image/png": "[encoded data removed]"
     },
     "metadata": {
      "needs_background": "light"
     },
     "output_type": "display_data"
    }
   ],
   "source": [
    "conf_matrix(y_test, y_pred)"
   ],
   "metadata": {
    "collapsed": false,
    "pycharm": {
     "name": "#%%\n"
    }
   }
  }
 ],
 "metadata": {
  "kernelspec": {
   "display_name": "Python 3",
   "language": "python",
   "name": "python3"
  },
  "language_info": {
   "codemirror_mode": {
    "name": "ipython",
    "version": 2
   },
   "file_extension": ".py",
   "mimetype": "text/x-python",
   "name": "python",
   "nbconvert_exporter": "python",
   "pygments_lexer": "ipython2",
   "version": "2.7.6"
  }
 },
 "nbformat": 4,
 "nbformat_minor": 0
}